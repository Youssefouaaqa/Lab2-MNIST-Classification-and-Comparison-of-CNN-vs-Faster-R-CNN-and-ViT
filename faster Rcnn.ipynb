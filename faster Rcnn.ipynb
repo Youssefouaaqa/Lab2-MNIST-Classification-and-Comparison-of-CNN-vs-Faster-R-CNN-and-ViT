{
  "nbformat": 4,
  "nbformat_minor": 0,
  "metadata": {
    "colab": {
      "provenance": [],
      "gpuType": "T4"
    },
    "kernelspec": {
      "name": "python3",
      "display_name": "Python 3"
    },
    "language_info": {
      "name": "python"
    },
    "accelerator": "GPU"
  },
  "cells": [
    {
      "cell_type": "code",
      "source": [
        "import torch\n",
        "import torchvision\n",
        "from torchvision.models.detection.faster_rcnn import FastRCNNPredictor\n",
        "from torchvision import datasets, transforms\n",
        "from torch.utils.data import DataLoader, Dataset\n",
        "import numpy as np\n",
        "from PIL import Image"
      ],
      "metadata": {
        "id": "WxVTTc9gCpRU"
      },
      "execution_count": null,
      "outputs": []
    },
    {
      "cell_type": "code",
      "source": [
        "# Device configuration\n",
        "device = torch.device('cuda') if torch.cuda.is_available() else torch.device('cpu')"
      ],
      "metadata": {
        "id": "Ff3I4grsCrPu"
      },
      "execution_count": null,
      "outputs": []
    },
    {
      "cell_type": "code",
      "source": [
        "# Hyperparameters\n",
        "num_epochs = 10\n",
        "batch_size = 4\n",
        "learning_rate = 0.005"
      ],
      "metadata": {
        "id": "jVHnVdMrCtmq"
      },
      "execution_count": null,
      "outputs": []
    },
    {
      "cell_type": "code",
      "source": [
        "# Step 1: Prepare MNIST with Synthetic Bounding Boxes\n",
        "# Generate synthetic bounding boxes for MNIST\n",
        "def create_synthetic_annotations(dataset):\n",
        "    annotations = []\n",
        "    for idx, (image, label) in enumerate(dataset):\n",
        "        # Fake bounding box for the entire image\n",
        "        box = [0, 0, 28, 28]  # Simulated full-image box\n",
        "        annotations.append({\n",
        "            \"boxes\": torch.tensor([box], dtype=torch.float32),  # [x_min, y_min, x_max, y_max]\n",
        "            \"labels\": torch.tensor([label], dtype=torch.int64)  # Single label per image\n",
        "        })\n",
        "    return annotations\n",
        "\n",
        "# Load MNIST Dataset\n",
        "train_dataset = datasets.MNIST(root='./data', train=True, download=True, transform=transforms.ToTensor())\n",
        "test_dataset = datasets.MNIST(root='./data', train=False, download=True, transform=transforms.ToTensor())\n",
        "\n",
        "train_annotations = create_synthetic_annotations(train_dataset)\n",
        "test_annotations = create_synthetic_annotations(test_dataset)\n",
        "\n",
        "# Custom Dataset Class\n",
        "class CustomDataset(Dataset):\n",
        "    def __init__(self, images, annotations, transforms=None):\n",
        "        self.images = images\n",
        "        self.annotations = annotations\n",
        "        self.transforms = transforms\n",
        "\n",
        "    def __len__(self):\n",
        "        return len(self.images)\n",
        "\n",
        "    def __getitem__(self, idx):\n",
        "        image = self.images[idx].numpy()\n",
        "        image = Image.fromarray((image[0] * 255).astype('uint8')).convert(\"RGB\")\n",
        "        target = self.annotations[idx]\n",
        "\n",
        "        if self.transforms:\n",
        "            image = self.transforms(image)\n",
        "\n",
        "        return image, target\n",
        "\n",
        "# Define transforms\n",
        "transform = transforms.Compose([\n",
        "    transforms.ToTensor(),\n",
        "])\n",
        "\n",
        "# Create datasets\n",
        "train_dataset_with_boxes = CustomDataset(\n",
        "    images=train_dataset.data,\n",
        "    annotations=train_annotations,\n",
        "    transforms=transform\n",
        ")\n",
        "\n",
        "test_dataset_with_boxes = CustomDataset(\n",
        "    images=test_dataset.data,\n",
        "    annotations=test_annotations,\n",
        "    transforms=transform\n",
        ")\n",
        "\n",
        "# Collate function for DataLoader\n",
        "def collate_fn(batch):\n",
        "    return tuple(zip(*batch))\n",
        "\n",
        "# Data loaders\n",
        "train_loader = DataLoader(dataset=train_dataset_with_boxes, batch_size=batch_size, shuffle=True, collate_fn=collate_fn)\n",
        "test_loader = DataLoader(dataset=test_dataset_with_boxes, batch_size=batch_size, shuffle=False, collate_fn=collate_fn)"
      ],
      "metadata": {
        "id": "qpEY2kSFCwAT"
      },
      "execution_count": null,
      "outputs": []
    },
    {
      "cell_type": "code",
      "source": [
        "# Step 2: Load Faster R-CNN Model\n",
        "# Load a pre-trained Faster R-CNN model\n",
        "model = torchvision.models.detection.fasterrcnn_resnet50_fpn(pretrained=True)\n",
        "\n",
        "# Replace the classifier head\n",
        "num_classes = 11  # 10 digits + 1 background class\n",
        "in_features = model.roi_heads.box_predictor.cls_score.in_features\n",
        "model.roi_heads.box_predictor = FastRCNNPredictor(in_features, num_classes)\n",
        "\n",
        "model.to(device)"
      ],
      "metadata": {
        "id": "mqTAKRjPC5xn"
      },
      "execution_count": null,
      "outputs": []
    },
    {
      "cell_type": "code",
      "source": [
        "# Step 3: Define Optimizer\n",
        "optimizer = torch.optim.SGD(model.parameters(), lr=learning_rate, momentum=0.9, weight_decay=0.0005)"
      ],
      "metadata": {
        "id": "6N_G-czuC6ZO"
      },
      "execution_count": null,
      "outputs": []
    },
    {
      "cell_type": "code",
      "source": [
        "# Step 4: Training Loop\n",
        "for epoch in range(num_epochs):\n",
        "    model.train()\n",
        "    total_loss = 0\n",
        "\n",
        "    for images, targets in train_loader:\n",
        "        images = list(image.to(device) for image in images)\n",
        "        targets = [{k: v.to(device) for k, v in t.items()} for t in targets]\n",
        "\n",
        "        # Forward pass and compute loss\n",
        "        loss_dict = model(images, targets)\n",
        "        losses = sum(loss for loss in loss_dict.values())\n",
        "\n",
        "        optimizer.zero_grad()\n",
        "        losses.backward()\n",
        "        optimizer.step()\n",
        "\n",
        "        total_loss += losses.item()\n",
        "\n",
        "    print(f\"Epoch [{epoch+1}/{num_epochs}], Loss: {total_loss:.4f}\")\n"
      ],
      "metadata": {
        "id": "rwSUqhcPC9gG"
      },
      "execution_count": null,
      "outputs": []
    },
    {
      "cell_type": "code",
      "source": [
        "# Step 5: Evaluation\n",
        "model.eval()\n",
        "all_preds = []\n",
        "all_targets = []\n",
        "\n",
        "with torch.no_grad():\n",
        "    for images, targets in test_loader:\n",
        "        images = list(image.to(device) for image in images)\n",
        "        outputs = model(images)\n",
        "\n",
        "        for output, target in zip(outputs, targets):\n",
        "            all_preds.append(output[\"labels\"].cpu().numpy())\n",
        "            all_targets.append(target[\"labels\"].cpu().numpy())"
      ],
      "metadata": {
        "id": "n7JeIRkQDCCi"
      },
      "execution_count": null,
      "outputs": []
    },
    {
      "cell_type": "code",
      "source": [
        "import torch\n",
        "import torchvision\n",
        "from torchvision.models.detection.faster_rcnn import FastRCNNPredictor\n",
        "from torchvision import datasets, transforms\n",
        "from torch.utils.data import DataLoader, Dataset\n",
        "import numpy as np\n",
        "from PIL import Image\n",
        "\n",
        "# Device configuration\n",
        "device = torch.device('cuda') if torch.cuda.is_available() else torch.device('cpu')\n",
        "\n",
        "# Hyperparameters\n",
        "num_epochs = 10\n",
        "batch_size = 4\n",
        "learning_rate = 0.005\n",
        "\n",
        "# Step 1: Prepare MNIST with Synthetic Bounding Boxes\n",
        "# Generate synthetic bounding boxes for MNIST\n",
        "def create_synthetic_annotations(dataset):\n",
        "    annotations = []\n",
        "    for idx, (image, label) in enumerate(dataset):\n",
        "        # Fake bounding box for the entire image\n",
        "        box = [0, 0, 28, 28]  # Simulated full-image box\n",
        "        annotations.append({\n",
        "            \"boxes\": torch.tensor([box], dtype=torch.float32),  # [x_min, y_min, x_max, y_max]\n",
        "            \"labels\": torch.tensor([label], dtype=torch.int64)  # Single label per image\n",
        "        })\n",
        "    return annotations\n",
        "\n",
        "# Load MNIST Dataset\n",
        "train_dataset = datasets.MNIST(root='./data', train=True, download=True, transform=transforms.ToTensor())\n",
        "test_dataset = datasets.MNIST(root='./data', train=False, download=True, transform=transforms.ToTensor())\n",
        "\n",
        "train_annotations = create_synthetic_annotations(train_dataset)\n",
        "test_annotations = create_synthetic_annotations(test_dataset)\n",
        "\n",
        "# Custom Dataset Class\n",
        "class CustomDataset(Dataset):\n",
        "    def __init__(self, images, annotations, transforms=None):\n",
        "        self.images = images\n",
        "        self.annotations = annotations\n",
        "        self.transforms = transforms\n",
        "\n",
        "    def __len__(self):\n",
        "        return len(self.images)\n",
        "\n",
        "    def __getitem__(self, idx):\n",
        "        image = self.images[idx].numpy()\n",
        "        image = Image.fromarray((image[0] * 255).astype('uint8')).convert(\"RGB\")\n",
        "        target = self.annotations[idx]\n",
        "\n",
        "        if self.transforms:\n",
        "            image = self.transforms(image)\n",
        "\n",
        "        return image, target\n",
        "\n",
        "# Define transforms\n",
        "transform = transforms.Compose([\n",
        "    transforms.ToTensor(),\n",
        "])\n",
        "\n",
        "# Create datasets\n",
        "train_dataset_with_boxes = CustomDataset(\n",
        "    images=train_dataset.data,\n",
        "    annotations=train_annotations,\n",
        "    transforms=transform\n",
        ")\n",
        "\n",
        "test_dataset_with_boxes = CustomDataset(\n",
        "    images=test_dataset.data,\n",
        "    annotations=test_annotations,\n",
        "    transforms=transform\n",
        ")\n",
        "\n",
        "# Collate function for DataLoader\n",
        "def collate_fn(batch):\n",
        "    return tuple(zip(*batch))\n",
        "\n",
        "# Data loaders\n",
        "train_loader = DataLoader(dataset=train_dataset_with_boxes, batch_size=batch_size, shuffle=True, collate_fn=collate_fn)\n",
        "test_loader = DataLoader(dataset=test_dataset_with_boxes, batch_size=batch_size, shuffle=False, collate_fn=collate_fn)\n",
        "\n",
        "# Step 2: Load Faster R-CNN Model\n",
        "# Load a pre-trained Faster R-CNN model\n",
        "model = torchvision.models.detection.fasterrcnn_resnet50_fpn(pretrained=True)\n",
        "\n",
        "# Replace the classifier head\n",
        "num_classes = 11  # 10 digits + 1 background class\n",
        "in_features = model.roi_heads.box_predictor.cls_score.in_features\n",
        "model.roi_heads.box_predictor = FastRCNNPredictor(in_features, num_classes)\n",
        "\n",
        "model.to(device)\n",
        "\n",
        "# Step 3: Define Optimizer\n",
        "optimizer = torch.optim.SGD(model.parameters(), lr=learning_rate, momentum=0.9, weight_decay=0.0005)\n",
        "\n",
        "# Step 4: Training Loop\n",
        "for epoch in range(num_epochs):\n",
        "    model.train()\n",
        "    total_loss = 0\n",
        "\n",
        "    for images, targets in train_loader:\n",
        "        images = list(image.to(device) for image in images)\n",
        "        targets = [{k: v.to(device) for k, v in t.items()} for t in targets]\n",
        "\n",
        "        # Forward pass and compute loss\n",
        "        loss_dict = model(images, targets)\n",
        "        losses = sum(loss for loss in loss_dict.values())\n",
        "\n",
        "        optimizer.zero_grad()\n",
        "        losses.backward()\n",
        "        optimizer.step()\n",
        "\n",
        "        total_loss += losses.item()\n",
        "\n",
        "    print(f\"Epoch [{epoch+1}/{num_epochs}], Loss: {total_loss:.4f}\")\n",
        "\n",
        "# Step 5: Evaluation\n",
        "model.eval()\n",
        "all_preds = []\n",
        "all_targets = []\n",
        "\n",
        "with torch.no_grad():\n",
        "    for images, targets in test_loader:\n",
        "        images = list(image.to(device) for image in images)\n",
        "        outputs = model(images)\n",
        "\n",
        "        for output, target in zip(outputs, targets):\n",
        "            all_preds.append(output[\"labels\"].cpu().numpy())\n",
        "            all_targets.append(target[\"labels\"].cpu().numpy())\n",
        "\n",
        "print(\"Evaluation complete!\")\n"
      ],
      "metadata": {
        "colab": {
          "base_uri": "https://localhost:8080/"
        },
        "id": "LC_M91KnCfDX",
        "outputId": "283ada78-f0c2-478d-9737-935a802775f7"
      },
      "execution_count": null,
      "outputs": [
        {
          "metadata": {
            "tags": null
          },
          "name": "stdout",
          "output_type": "stream",
          "text": [
            "Epoch [1/10], Loss: 315.0721\n",
            "Epoch [2/10], Loss: 289.7153\n",
            "Epoch [3/10], Loss: 289.7585\n"
          ]
        }
      ]
    }
  ]
}